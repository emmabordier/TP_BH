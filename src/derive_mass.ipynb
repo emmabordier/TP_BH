{
 "cells": [
  {
   "cell_type": "markdown",
   "metadata": {
    "slideshow": {
     "slide_type": "slide"
    }
   },
   "source": [
    "# Estimation de la masse du trou noir au centre de la galaxie NVSS J201943-364542: des ajustements à la masse"
   ]
  },
  {
   "cell_type": "code",
   "execution_count": 1,
   "metadata": {
    "collapsed": true,
    "slideshow": {
     "slide_type": "skip"
    }
   },
   "outputs": [],
   "source": [
    "%matplotlib inline\n",
    "import warnings\n",
    "warnings.filterwarnings('ignore')"
   ]
  },
  {
   "cell_type": "code",
   "execution_count": 2,
   "metadata": {
    "collapsed": true,
    "slideshow": {
     "slide_type": "subslide"
    }
   },
   "outputs": [],
   "source": [
    "import astropy.constants as cst\n",
    "import astropy.units as u\n",
    "from astropy.io import fits\n",
    "from astropy.cosmology import Planck15 as cosmo\n",
    "from scipy.optimize import curve_fit\n",
    "import matplotlib.pyplot as plt\n",
    "import matplotlib as mpl\n",
    "import numpy as np\n",
    "plt.ion()"
   ]
  },
  {
   "cell_type": "markdown",
   "metadata": {
    "slideshow": {
     "slide_type": "subslide"
    }
   },
   "source": [
    "### Valeurs de départ\n",
    "\n",
    "Les ajustements précédents nous donnent pour O ɪɪɪ et Hα : $\\lambda_\\mathrm{obs}$ et $\\sigma$ (en Å), ainsi que $a$ et $b$ (en erg s⁻¹ cm⁻² arcsec⁻² Å⁻¹), avec à chaque fois les incertitudes associées (notées `d_valeur` par convention)."
   ]
  },
  {
   "cell_type": "code",
   "execution_count": 3,
   "metadata": {
    "collapsed": true
   },
   "outputs": [],
   "source": [
    "# centre de Hα (Å)\n",
    "cen_Ha = 20462.8\n",
    "d_cen_Ha = 2\n",
    "# largeur de Hα (Å)\n",
    "wid_Ha = 200\n",
    "d_wid_Ha = 2\n",
    "# amplitude de Hα (erg s⁻¹ cm⁻² arcsec⁻² Å⁻¹)\n",
    "a_Ha =1e-19\n",
    "d_a_Ha = 0.1e-19\n",
    "# fond (constant) pour Hα (erg s⁻¹ cm⁻² arcsec⁻² Å⁻¹)\n",
    "b_Ha = 6e-20\n",
    "d_b_Ha = 0.1e-20\n",
    "# centre de Oɪɪɪ (Å)\n",
    "cen_o3 = 15618.5\n",
    "d_cen_o3 = 2"
   ]
  },
  {
   "cell_type": "markdown",
   "metadata": {
    "slideshow": {
     "slide_type": "subslide"
    }
   },
   "source": [
    "Par ailleurs, on a les longueurs d’onde au repos suivantes :"
   ]
  },
  {
   "cell_type": "code",
   "execution_count": 4,
   "metadata": {
    "collapsed": true,
    "slideshow": {
     "slide_type": "-"
    }
   },
   "outputs": [],
   "source": [
    "# centre au repos de Hα (Å)\n",
    "cen0_Ha = 6563.\n",
    "# centre au repos de Oɪɪɪ (Å)\n",
    "cen0_o3 = 5007."
   ]
  },
  {
   "cell_type": "markdown",
   "metadata": {
    "slideshow": {
     "slide_type": "subslide"
    }
   },
   "source": [
    "### Démarche\n",
    "\n",
    "Pour calculer la masse du trou noir, on utilise l’équation établie par Green & Ho (2005) :\n",
    "\n",
    "\n",
    "$$\n",
    "    M_\\text{BH} = \\left({2.0}^{+{0.4}}_{-{0.3}}\\right)\n",
    "      \\times {10^6} \n",
    "      \\left(\\frac{L_{\\textrm{H}\\alpha}}{{10^{42}}\\text{erg s⁻¹}}\\right)^{{0.55\\pm0.02}}\n",
    "      \\left(\\frac{\\text{FWHM}_{\\textrm{H}\\alpha}}{{10^{3}}\\text{km s⁻¹}}\\right)^{{2.06\\pm0.06}}\n",
    "      M_\\odot.\n",
    "$$\n",
    "\n",
    "Il nous faut donc calculer :\n",
    "\n",
    "- $L_{\\textrm{H}\\alpha}$, la luminosité absolue en erg s⁻¹ dans la raie Hα,\n",
    "- $\\text{FWHM}_{\\textrm{H}\\alpha}$, la largeur à mi-hauteur (full width at half maximum, FWHM) en km s⁻¹ de la raie Hα.\n",
    "\n",
    "Pour calculer ces grandeurs, nous aurons besoin du redshift $z$, du flux par unité de surface angulaire $F_s$, de la surface angulaire $S_\\text{galaxie}$, du flux $F$, et de la distance de luminosité $d_L$ de la galaxie."
   ]
  },
  {
   "cell_type": "markdown",
   "metadata": {
    "slideshow": {
     "slide_type": "subslide"
    }
   },
   "source": [
    "### Redshift calculé pour O ɪɪɪ et Hα\n",
    "\n",
    "$z = \\frac{\\lambda_\\mathrm{obs} - \\lambda_0}{\\lambda_0}$\n",
    "\n",
    "$\\delta z = \\frac{\\delta\\lambda_\\mathrm{obs}}{\\lambda_0}$"
   ]
  },
  {
   "cell_type": "code",
   "execution_count": 5,
   "metadata": {
    "collapsed": true
   },
   "outputs": [],
   "source": [
    "z_o3 = (cen_o3 - cen0_o3) / cen0_o3\n",
    "d_z_o3 = d_cen_o3 / cen0_o3\n",
    "\n",
    "z_Ha = (cen_Ha - cen0_Ha) / cen0_Ha\n",
    "d_z_Ha = d_cen_Ha / cen0_Ha"
   ]
  },
  {
   "cell_type": "markdown",
   "metadata": {},
   "source": [
    "On estime $z$ à partir de la raie de Oɪɪɪ, qui est plus fine, afin d’avoir une valeur plus précise. \n",
    "\n",
    "Par contre, on estimera les autres valeurs pour la raie de Hα."
   ]
  },
  {
   "cell_type": "code",
   "execution_count": 6,
   "metadata": {
    "collapsed": true
   },
   "outputs": [],
   "source": [
    "z = z_o3\n",
    "d_z = d_z_o3"
   ]
  },
  {
   "cell_type": "markdown",
   "metadata": {
    "slideshow": {
     "slide_type": "subslide"
    }
   },
   "source": [
    "### Flux de surface\n",
    "\n",
    "C’est le flux par unité de surface angulaire (observée sur le ciel) émis par la galaxie. C’est simplement l’intensité intégrée sous la raie de Hα :\n",
    "\n",
    "$F_s = a \\sigma \\sqrt{2\\pi}$\n",
    "\n",
    "$\\delta F_s = \\sqrt{(\\delta a / a)^2 + (\\delta \\sigma / \\sigma)^2} F_s$\n",
    "\n",
    "On l’exprime en erg s⁻¹ cm⁻² arcsec⁻²."
   ]
  },
  {
   "cell_type": "code",
   "execution_count": 7,
   "metadata": {
    "collapsed": true
   },
   "outputs": [],
   "source": [
    "F_s = a_Ha * wid_Ha * np.sqrt(2 * np.pi) # erg s⁻¹ cm⁻² arcsec⁻²\n",
    "d_F_s = np.sqrt((d_a_Ha / a_Ha)**2 + (d_wid_Ha / wid_Ha)**2) * F_s"
   ]
  },
  {
   "cell_type": "markdown",
   "metadata": {
    "slideshow": {
     "slide_type": "subslide"
    }
   },
   "source": [
    "### Flux\n",
    "\n",
    "Nous souhaitons maintenant déterminer le flux total provenant de la galaxie. Pour ce faire, il faut intégrer **angulairement** sur l’ensemble des pixels de notre image couverts par la galaxie. Pour ce faire, on compte le nombre de pixels occupés par la galaxie sur l’image en Hα faite en 2e séance, et on convertit ce nombre de pixels en surface angulaire sur le ciel. \n",
    "\n",
    "Pour aller plus vite, on supposera que la surface de la galaxie vaut $S_\\text{galaxie} = 0.88~\\text{arcsec²}$. (C’est la valeur mesurée par Collet et al., 2016.)\n",
    "\n",
    "On peut alors calculer le flux total reçu de la galaxie :\n",
    "\n",
    "$F = F_s \\times S_\\text{galaxie}$\n",
    "\n",
    "On prend $\\delta F = \\delta F_s \\times S_\\text{galaxie}$.\n",
    "\n",
    "On l’exprime en erg s⁻¹ cm⁻²."
   ]
  },
  {
   "cell_type": "code",
   "execution_count": 8,
   "metadata": {
    "collapsed": true
   },
   "outputs": [],
   "source": [
    "S_galaxie = 0.88 # arcsec²\n",
    "\n",
    "F = F_s * S_galaxie # erg s⁻¹ cm⁻² arcsec⁻²\n",
    "d_F = d_F_s * S_galaxie"
   ]
  },
  {
   "cell_type": "markdown",
   "metadata": {
    "slideshow": {
     "slide_type": "subslide"
    }
   },
   "source": [
    "### Distance de luminosité\n",
    "\n",
    "Pour calculer la luminosité absolue de la galaxie, il « suffit » d’appliquer la formule $L = 4\\pi d^2 F$. Mais quelle valeur de distance prendre, à des échelles cosmologiques ?"
   ]
  },
  {
   "cell_type": "markdown",
   "metadata": {},
   "source": [
    "On utilise la distance de luminosité, $d_L$, qui se calcule avec la formule suivante :\n",
    "\n",
    "$d_L = (1+z) \\frac{c}{H_0} \\int_0^z \\frac{\\textrm{d}z^\\prime}{\\sqrt{\\Omega_m (1+z^\\prime)^3 + \\Omega_\\Lambda}}$\n",
    "\n",
    "$\\delta d_L = \\left( \\frac{d_L}{1+z} + (1+z) \\frac{c}{H_0} \\frac{1}{\\sqrt{\\Omega_m (1+z)^3 + \\Omega_\\Lambda}} \\right) \\delta z$\n",
    "\n",
    "avec $H_0 \\approx 70~\\text{km Mpc⁻¹ s⁻¹}$, $\\Omega_m \\approx 0.3$, et $\\Omega_\\Lambda \\approx 0.7$."
   ]
  },
  {
   "cell_type": "markdown",
   "metadata": {
    "slideshow": {
     "slide_type": "subslide"
    }
   },
   "source": [
    "Puisque cette intégrale n’a pas de solution analytique, on utilise la fonction `luminosity_distance` du module `astropy.cosmology.Planck15`.\n",
    "\n",
    "De plus, il faut penser à convertir ce résultat en centimètres."
   ]
  },
  {
   "cell_type": "code",
   "execution_count": 9,
   "metadata": {
    "collapsed": true
   },
   "outputs": [],
   "source": [
    "d_l = cosmo.luminosity_distance(z) # Mpc (type astropy.units.quantity contenant valeur ET unité)\n",
    "d_d_l = (d_l / (1+z) + (1 + z) * (cst.c / cosmo.H0) * 1 / (np.sqrt(cosmo.Odm0 * (1 + z)**3 + cosmo.Ode0))) * d_z\n",
    "\n",
    "d_l = d_l.to('cm').value # cm\n",
    "d_d_l = d_d_l.to('cm').value # cm"
   ]
  },
  {
   "cell_type": "markdown",
   "metadata": {
    "slideshow": {
     "slide_type": "subslide"
    }
   },
   "source": [
    "### Luminosité absolue\n",
    "\n",
    "En connaissant $d_L$, on peut calculer la luminosité absolue de la galaxie :\n",
    "\n",
    "$L = 4\\pi d_L^2 F$\n",
    "\n",
    "$\\delta L = \\sqrt{(2 \\delta d_L / d_L)^2 + (\\delta F / F)^2} L$\n",
    "\n",
    "Cette luminosité s’exprime en erg s⁻¹."
   ]
  },
  {
   "cell_type": "code",
   "execution_count": 10,
   "metadata": {
    "collapsed": true
   },
   "outputs": [],
   "source": [
    "L = 4 * np.pi * d_l**2 * F # erg s⁻¹\n",
    "d_L = L * np.sqrt((2 * d_d_l / d_l)**2 + (d_F / F)**2)"
   ]
  },
  {
   "cell_type": "markdown",
   "metadata": {
    "slideshow": {
     "slide_type": "subslide"
    }
   },
   "source": [
    "### Largeur à mi-hauteur\n",
    "\n",
    "Enfin, la dernière grandeur dont on a besoin pour estimer la masse du trou noir est la largeur à mi-hauteur, exprimée en km s⁻¹.\n",
    "\n",
    "Largeur à mi-hauteur en Å :\n",
    "\n",
    "$\\Delta \\lambda = 2\\sqrt{2~\\mathrm{ln}2}\\sigma \\approx 2.35 \\sigma$\n",
    "\n",
    "Largeur à mi-hateur en km s⁻¹ :\n",
    "\n",
    "$\\text{FWHM}_{\\mathrm{H}\\alpha} = \\Delta v = \\frac{\\Delta\\lambda}{\\lambda_\\text{obs}} \\times c$"
   ]
  },
  {
   "cell_type": "code",
   "execution_count": 11,
   "metadata": {
    "collapsed": true
   },
   "outputs": [],
   "source": [
    "c = cst.c.to('km/s').value # c en km s⁻¹\n",
    "\n",
    "delta_lda = 2 * np.sqrt(2 * np.log(2)) * wid_Ha # Å\n",
    "d_delta_lda = d_wid_Ha / wid_Ha * delta_lda\n",
    "\n",
    "delta_v = delta_lda / cen0_Ha * c # km s⁻¹\n",
    "d_delta_v = np.sqrt((d_delta_lda / delta_lda)**2 + (d_cen_Ha / cen0_Ha)**2) * delta_v"
   ]
  },
  {
   "cell_type": "markdown",
   "metadata": {
    "slideshow": {
     "slide_type": "subslide"
    }
   },
   "source": [
    "### Masse du trou noir (enfin !)\n",
    "\n",
    "\n",
    "\n",
    "$$\n",
    "    M_\\text{BH} = \\left({2.0}^{+{0.4}}_{-{0.3}}\\right)\n",
    "      \\times {10^6} \n",
    "      \\left(\\frac{L_{\\textrm{H}\\alpha}}{{10^{42}}\\text{erg s⁻¹}}\\right)^{{0.55\\pm0.02}}\n",
    "      \\left(\\frac{\\text{FWHM}_{\\textrm{H}\\alpha}}{{10^{3}}\\text{km s⁻¹}}\\right)^{{2.06\\pm0.06}}\n",
    "      M_\\odot.\n",
    "$$\n",
    "\n",
    "Pour trouver l’expression de $δM_\\text{BH}$, on fait la dérivée logarithmique de $M_\\text{BH}$."
   ]
  },
  {
   "cell_type": "code",
   "execution_count": 12,
   "metadata": {
    "collapsed": true
   },
   "outputs": [],
   "source": [
    "m0 = 2e6 # M_s\n",
    "d_m0 = 0.35e6 # M_s (en réalité, on devrait prendre -0.3e6, +0.4e6)\n",
    "alpha = 0.55\n",
    "d_alpha = 0.02\n",
    "beta = 2.06\n",
    "d_beta = 0.06\n",
    "L0 = 1e42 # erg s⁻¹\n",
    "delta_v0 = 1e3 # km s⁻¹\n",
    "\n",
    "M = m0 * \\\n",
    "    (L / L0)**alpha * \\\n",
    "    (delta_v / delta_v0)**beta # M☉\n",
    "d_M = M * np.sqrt(\n",
    "    (d_m0 / m0)**2 + \\\n",
    "    (d_alpha * np.log(L / L0))**2 + \\\n",
    "    (alpha * d_L / L)**2 + \\\n",
    "    (d_beta * np.log(delta_v / delta_v0))**2 + \\\n",
    "    (beta * d_delta_v / delta_v)**2\n",
    "    )"
   ]
  },
  {
   "cell_type": "markdown",
   "metadata": {
    "slideshow": {
     "slide_type": "skip"
    }
   },
   "source": [
    "### Résultats"
   ]
  },
  {
   "cell_type": "code",
   "execution_count": 13,
   "metadata": {
    "collapsed": true,
    "slideshow": {
     "slide_type": "skip"
    }
   },
   "outputs": [],
   "source": [
    "def power_of_ten(exp):\n",
    "    exp_str = '{:+d}'.format(exp)\n",
    "    exp_converter = dict(zip('1234567890+−-', '¹²³⁴⁵⁶⁷⁸⁹⁰⁺⁻⁻'))\n",
    "    exp_str = ''.join([exp_converter[s] for s in exp_str])\n",
    "    exp_str = '10' + exp_str\n",
    "    return exp_str\n",
    "\n",
    "def format_quantity(name, val, unc, unit, unc_digits=1):\n",
    "    ''' Format a physical quantity with its uncertainty and unit.\n",
    "    \n",
    "    Parameters\n",
    "    ==========\n",
    "    name : str\n",
    "    val : float\n",
    "        value\n",
    "    unc : float\n",
    "        uncertainty\n",
    "    unit : str\n",
    "    unc_digits : int (default: 1)\n",
    "        Number of significant digits to use for the uncertainty.\n",
    "        \n",
    "    Returns\n",
    "    =======\n",
    "    A string representing the input quantity\n",
    "    \n",
    "    Example\n",
    "    =======\n",
    "    >>> format_quantity('x', 1.1238e3, 2.18e2, 'cm')\n",
    "    'x = (1.1 ± 0.2)e3 cm'\n",
    "    >>> format_quantity('x', 1.1238e3, 2.18e2, 'cm', unc_digits=2)\n",
    "    'x = (1.12 ± 0.22)e3 cm'\n",
    "    '''\n",
    "    exponent_val = int(np.floor(np.log10(val)))\n",
    "    exponent_unc = int(np.floor(np.log10(unc)))\n",
    "    norm_val = val / 10**exponent_val\n",
    "    norm_unc = unc / 10**exponent_val\n",
    "    digits = exponent_val - exponent_unc + unc_digits - 1\n",
    "    num = '{norm_val:.{digits}f} ± {norm_unc:.{digits}f}'\n",
    "    if exponent_val != 0:\n",
    "        num = '({}) {}'.format(num, power_of_ten(exponent_val))\n",
    "    num = num.format(**locals())\n",
    "    return '{name} = {num} {unit}'.format(**locals())"
   ]
  },
  {
   "cell_type": "code",
   "execution_count": 14,
   "metadata": {
    "collapsed": false,
    "slideshow": {
     "slide_type": "skip"
    }
   },
   "outputs": [
    {
     "name": "stdout",
     "output_type": "stream",
     "text": [
      "z = 2.1193 ± 0.0004 \n",
      "d_L = (5.277 ± 0.001) 10⁺²⁸ cm\n",
      "F_s = (5.0 ± 0.5) 10⁻¹⁷ erg s⁻¹ cm⁻² arcsec⁻²\n",
      "F = (4.4 ± 0.4) 10⁻¹⁷ erg s⁻¹ cm⁻²\n",
      "L = (1.5 ± 0.2) 10⁺⁴² erg s⁻¹\n",
      "Δλ = (4.71 ± 0.05) 10⁺² Å\n",
      "Δv = (2.15 ± 0.02) 10⁺⁴ km s⁻¹\n",
      "M = (1.4 ± 0.4) 10⁺⁹ M☉\n"
     ]
    }
   ],
   "source": [
    "values = (\n",
    "    ('z', z, d_z, ''),\n",
    "    ('d_L', d_l, d_d_l, 'cm'),\n",
    "    ('F_s', F_s, d_F_s, 'erg s⁻¹ cm⁻² arcsec⁻²'),\n",
    "    ('F', F, d_F, 'erg s⁻¹ cm⁻²'),\n",
    "    ('L', L, d_L, 'erg s⁻¹'),\n",
    "    ('Δλ', delta_lda, d_delta_lda, 'Å'),\n",
    "    ('Δv', delta_v, d_delta_v, 'km s⁻¹'),\n",
    "    ('M', M, d_M, 'M☉')\n",
    "    )\n",
    "\n",
    "for v in values:\n",
    "    print(format_quantity(*v))"
   ]
  }
 ],
 "metadata": {
  "kernelspec": {
   "display_name": "Python 3",
   "language": "python",
   "name": "python3"
  },
  "language_info": {
   "codemirror_mode": {
    "name": "ipython",
    "version": 3
   },
   "file_extension": ".py",
   "mimetype": "text/x-python",
   "name": "python",
   "nbconvert_exporter": "python",
   "pygments_lexer": "ipython3",
   "version": "3.6.0"
  }
 },
 "nbformat": 4,
 "nbformat_minor": 1
}
